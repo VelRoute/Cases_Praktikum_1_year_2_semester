{
  "metadata": {
    "kernelspec": {
      "name": "python",
      "display_name": "Python (Pyodide)",
      "language": "python"
    },
    "language_info": {
      "codemirror_mode": {
        "name": "python",
        "version": 3
      },
      "file_extension": ".py",
      "mimetype": "text/x-python",
      "name": "python",
      "nbconvert_exporter": "python",
      "pygments_lexer": "ipython3",
      "version": "3.8"
    }
  },
  "nbformat_minor": 5,
  "nbformat": 4,
  "cells": [
    {
      "id": "41db7960-1a1e-459e-81d7-b067660ce242",
      "cell_type": "code",
      "source": "import random",
      "metadata": {
        "trusted": true
      },
      "outputs": [],
      "execution_count": 1
    },
    {
      "id": "11cfd89c-010e-4e26-90b3-9f7c16217f39",
      "cell_type": "code",
      "source": "def sum_neg_num_in_array():\n    N = random.randint(4,10)\n    array_A = random.sample(range(-10,10),N)\n    array_neg_num = []\n    for a in array_A:\n        if max(array_A) > a > min(array_A) and a < 0:\n            array_neg_num.append(a)\n    print(array_A)\n    print(sum(array_neg_num))",
      "metadata": {
        "trusted": true
      },
      "outputs": [],
      "execution_count": 2
    },
    {
      "id": "e116d63b-2072-4dac-854b-c3a603ac3f3b",
      "cell_type": "code",
      "source": "sum_neg_num_in_array()",
      "metadata": {
        "trusted": true
      },
      "outputs": [
        {
          "name": "stdout",
          "output_type": "stream",
          "text": "[-3, 4, -6, 9, -7, 2, -5]\n-14\n"
        }
      ],
      "execution_count": 3
    },
    {
      "id": "e29d6d9c-e07f-4fdb-bb90-7815d9cbebb0",
      "cell_type": "code",
      "source": "",
      "metadata": {
        "trusted": true
      },
      "outputs": [],
      "execution_count": null
    }
  ]
}