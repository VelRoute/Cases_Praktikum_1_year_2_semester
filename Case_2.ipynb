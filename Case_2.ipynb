{
  "metadata": {
    "kernelspec": {
      "name": "python",
      "display_name": "Python (Pyodide)",
      "language": "python"
    },
    "language_info": {
      "codemirror_mode": {
        "name": "python",
        "version": 3
      },
      "file_extension": ".py",
      "mimetype": "text/x-python",
      "name": "python",
      "nbconvert_exporter": "python",
      "pygments_lexer": "ipython3",
      "version": "3.8"
    }
  },
  "nbformat_minor": 5,
  "nbformat": 4,
  "cells": [
    {
      "id": "108ff89d-39c2-4cfe-b22c-571b12e4291f",
      "cell_type": "code",
      "source": "# базовый класс Flower\nclass Flower:\n    def __init__(self, name):\n        self.name = name\n\n    def bloom(self):\n        print(f'{self.name} начинает распускаться.')\n    \n    def smell(self):\n        print(f'{self.name} приятно пахнет.')",
      "metadata": {
        "trusted": true
      },
      "outputs": [],
      "execution_count": 1
    },
    {
      "id": "37f0aaab-310f-47cd-a76a-c5a4bea1a397",
      "cell_type": "code",
      "source": "# производный класс Rose\nclass Rose(Flower):\n    def __init__(self, has_thorns=True):\n        Flower.__init__(self, 'Роза')\n        self.has_thorns = has_thorns\n        \n    def describe(self):\n        thorn_info = \"с шипами\" if self.has_thorns else \"без шипов\"\n        print(f'Это {self.name} {thorn_info}.')\n\n\n# производный класс Tulip\nclass Tulip(Flower):\n    def __init__(self):\n        Flower.__init__(self,'Тюльпан')\n    def describe(self):\n        print(f'Этот {self.name} прекрасен.')\n",
      "metadata": {
        "trusted": true
      },
      "outputs": [],
      "execution_count": 2
    },
    {
      "id": "0cc3e3b8-4f56-4f6c-9235-8e233c2ae54b",
      "cell_type": "code",
      "source": "# Тестовая функция\ndef test_flowers():\n    print(\"\\n---Тест базового класса Flower---\\n\")\n    flower = Flower(\"Цветок\")\n    flower.bloom()\n    flower.smell()\n\n    print(\"\\n---Тест производного класса Rose---\\n\")\n    rose1 = Rose()\n    rose1.bloom()\n    rose1.smell()\n    rose1.describe()\n\n    rose2 = Rose(has_thorns=False)\n    rose2.describe()\n\n    print(\"\\n---Тест производного класса Tulip---\\n\")\n    tulip = Tulip()\n    tulip.bloom()\n    tulip.smell()\n    tulip.describe()\n\n",
      "metadata": {
        "trusted": true
      },
      "outputs": [],
      "execution_count": 3
    },
    {
      "id": "c0f0fd1a-fde1-4cf1-badf-efe78e952028",
      "cell_type": "code",
      "source": "# Вызов тестовой функции\ntest_flowers()",
      "metadata": {
        "trusted": true
      },
      "outputs": [
        {
          "name": "stdout",
          "output_type": "stream",
          "text": "\n---Тест базового класса Flower---\n\nЦветок начинает распускаться.\nЦветок приятно пахнет.\n\n---Тест производного класса Rose---\n\nРоза начинает распускаться.\nРоза приятно пахнет.\nЭто Роза с шипами.\nЭто Роза без шипов.\n\n---Тест производного класса Tulip---\n\nТюльпан начинает распускаться.\nТюльпан приятно пахнет.\nЭтот Тюльпан прекрасен.\n"
        }
      ],
      "execution_count": 4
    }
  ]
}