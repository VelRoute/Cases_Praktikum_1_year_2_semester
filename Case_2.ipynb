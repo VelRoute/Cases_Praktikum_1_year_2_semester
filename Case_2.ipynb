{
  "metadata": {
    "kernelspec": {
      "name": "python",
      "display_name": "Python (Pyodide)",
      "language": "python"
    },
    "language_info": {
      "codemirror_mode": {
        "name": "python",
        "version": 3
      },
      "file_extension": ".py",
      "mimetype": "text/x-python",
      "name": "python",
      "nbconvert_exporter": "python",
      "pygments_lexer": "ipython3",
      "version": "3.8"
    }
  },
  "nbformat_minor": 5,
  "nbformat": 4,
  "cells": [
    {
      "id": "108ff89d-39c2-4cfe-b22c-571b12e4291f",
      "cell_type": "code",
      "source": "# базовый класс Flower\nclass Flower:\n    def __init__(self, name):\n        self.name = name\n\n    def bloom(self):\n        print(f'{self.name} начинает распускаться.')\n    \n    def smell(self):\n        print(f'{self.name} приятно пахнет.')",
      "metadata": {
        "trusted": true
      },
      "outputs": [],
      "execution_count": 1
    },
    {
      "id": "37f0aaab-310f-47cd-a76a-c5a4bea1a397",
      "cell_type": "code",
      "source": "# производный класс Rose\nclass Rose(Flower):\n    def __init__(self, has_thorns=True):\n        Flower.__init__(self, 'Роза')\n        self.has_thorns = has_thorns\n        \n    def describe(self):\n        thorn_info = \"с шипами\" if self.has_thorns else \"без шипов\"\n        print(f'Это {self.name} {thorn_info}.')\n\n\n# производный класс Lily\nclass Tulip(Flower):\n    def __init__(self):\n        Flower.__init__(self,'Тюльпан')\n    def describe(self):\n        print(f'Этот {self.name} прекрасен')\n",
      "metadata": {
        "trusted": true
      },
      "outputs": [],
      "execution_count": 2
    },
    {
      "id": "40834a08-fe4f-471b-8d51-df488b174c80",
      "cell_type": "code",
      "source": "# Тест 1\nf = Flower(\"Цветок\")\nf.bloom()\nf.smell()",
      "metadata": {
        "trusted": true
      },
      "outputs": [
        {
          "name": "stdout",
          "output_type": "stream",
          "text": "Цветок начинает распускаться.\nЦветок приятно пахнет.\n"
        }
      ],
      "execution_count": 3
    },
    {
      "id": "1732eeed-0d42-4cc1-99bc-a882b40b91f2",
      "cell_type": "code",
      "source": "# Тест 2\nr = Rose(has_thorns=True)\nr.bloom()\nr.smell()\nr.describe()",
      "metadata": {
        "trusted": true
      },
      "outputs": [
        {
          "name": "stdout",
          "output_type": "stream",
          "text": "Роза начинает распускаться.\nРоза приятно пахнет.\nЭто Роза с шипами.\n"
        }
      ],
      "execution_count": 4
    },
    {
      "id": "355c9a5a-8e7a-45d6-b1d6-24c21f1744b6",
      "cell_type": "code",
      "source": "# Тест 3\nh = Rose(has_thorns=False)\nh.describe()",
      "metadata": {
        "trusted": true
      },
      "outputs": [
        {
          "name": "stdout",
          "output_type": "stream",
          "text": "Роза начинает распускаться.\nРоза приятно пахнет.\nЭто Роза без шипов.\n"
        }
      ],
      "execution_count": 5
    },
    {
      "id": "efe222b9-4b7c-4a9a-8717-d857d07d598a",
      "cell_type": "code",
      "source": "# Тест 4\nt = Tulip()\nt.bloom()\nt.smell()\nt.describe()",
      "metadata": {
        "trusted": true
      },
      "outputs": [
        {
          "name": "stdout",
          "output_type": "stream",
          "text": "Тюльпан начинает распускаться.\nТюльпан приятно пахнет.\nЭтот Тюльпан прекрасен\n"
        }
      ],
      "execution_count": 6
    }
  ]
}